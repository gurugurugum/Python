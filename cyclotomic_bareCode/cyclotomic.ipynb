{
 "cells": [
  {
   "cell_type": "code",
   "execution_count": 1,
   "metadata": {
    "collapsed": true
   },
   "outputs": [],
   "source": [
    "from sympy import *\n",
    "\n",
    "x=Symbol('x',real=True)\n",
    "\n",
    "def cyclotomic(m):\n",
    "\tf=1\n",
    "\tfor i in range(m):\n",
    "\t\tif gcd(i,m)==1:\n",
    "\t\t\tf=f*(x-exp(2*pi*I/m*i))\n",
    "\treturn f\n",
    "\n",
    "def cyclotomic_coeffs(m):\n",
    "\treturn Poly(collect(expand_trig(expand(cyclotomic(m)).expand(complex=True)),x),x).all_coeffs()\n",
    "\n",
    "#subs(sum([cos(pi/m*i) for i in range(1,m,2)]),+1/2)\n",
    "#.subs(cos(pi/m),-sum([cos(pi/m*i) for i in range(3,m,2)])+1/2)\n",
    "\n",
    "def subs_cos(exp,m):\n",
    "\treturn exp.subs(cos(pi/m),-sum([cos(pi/m*i) for i in range(3,m,2)])+Rational(1,2))\n",
    "\n",
    "def cyclotomic_expand(m):\n",
    "\t#f=collect(expand_trig(expand(cyclotomic(m)).expand(complex=True)),x)\n",
    "\tf=collect(collect(expand(cyclotomic(m)),x).expand(complex=True),x)\n",
    "\tfor i in range(3,m+2,2):\n",
    "\t\tf=subs_cos(f,i)\n",
    "\treturn f\n",
    "\n",
    "def coprime_sum(m):\n",
    "\tn=0\n",
    "\tfor i in range(1,m):\n",
    "\t\tif gcd(i,m)==1:\n",
    "\t\t\tn+=i\n",
    "\treturn n\n",
    "\n"
   ]
  },
  {
   "cell_type": "code",
   "execution_count": 3,
   "metadata": {
    "collapsed": false
   },
   "outputs": [
    {
     "data": {
      "text/plain": [
       "78"
      ]
     },
     "execution_count": 3,
     "metadata": {},
     "output_type": "execute_result"
    }
   ],
   "source": [
    "coprime_sum(13)"
   ]
  },
  {
   "cell_type": "code",
   "execution_count": 4,
   "metadata": {
    "collapsed": false
   },
   "outputs": [
    {
     "data": {
      "text/plain": [
       "x**4 - x**3 + x**2 - x + 1"
      ]
     },
     "execution_count": 4,
     "metadata": {},
     "output_type": "execute_result"
    }
   ],
   "source": [
    "cyclotomic_expand(10)"
   ]
  },
  {
   "cell_type": "code",
   "execution_count": 7,
   "metadata": {
    "collapsed": false
   },
   "outputs": [
    {
     "ename": "SyntaxError",
     "evalue": "invalid syntax (<ipython-input-7-ddd3edfe124a>, line 1)",
     "output_type": "error",
     "traceback": [
      "\u001b[0;36m  File \u001b[0;32m\"<ipython-input-7-ddd3edfe124a>\"\u001b[0;36m, line \u001b[0;32m1\u001b[0m\n\u001b[0;31m    $$\u001b[0m\n\u001b[0m    ^\u001b[0m\n\u001b[0;31mSyntaxError\u001b[0m\u001b[0;31m:\u001b[0m invalid syntax\n"
     ]
    }
   ],
   "source": [
    "$$\n",
    "\\begin{align}\n",
    "\\sum_{k=1}^{\\infty} \\frac{1}{k^2} = \\frac{\\pi^2}{6}\n",
    "\\end{align}\n",
    "$$"
   ]
  },
  {
   "cell_type": "code",
   "execution_count": 10,
   "metadata": {
    "collapsed": false
   },
   "outputs": [
    {
     "ename": "SyntaxError",
     "evalue": "invalid syntax (<ipython-input-10-293505204df9>, line 1)",
     "output_type": "error",
     "traceback": [
      "\u001b[0;36m  File \u001b[0;32m\"<ipython-input-10-293505204df9>\"\u001b[0;36m, line \u001b[0;32m1\u001b[0m\n\u001b[0;31m    $\\sum_{k=1}^{\\infty} \\frac{1}{k^2} $\u001b[0m\n\u001b[0m    ^\u001b[0m\n\u001b[0;31mSyntaxError\u001b[0m\u001b[0;31m:\u001b[0m invalid syntax\n"
     ]
    }
   ],
   "source": [
    "$\\sum_{k=1}^{\\infty} \\frac{1}{k^2} $"
   ]
  },
  {
   "cell_type": "code",
   "execution_count": null,
   "metadata": {
    "collapsed": true
   },
   "outputs": [],
   "source": []
  }
 ],
 "metadata": {
  "kernelspec": {
   "display_name": "Python 3",
   "language": "python",
   "name": "python3"
  },
  "language_info": {
   "codemirror_mode": {
    "name": "ipython",
    "version": 3
   },
   "file_extension": ".py",
   "mimetype": "text/x-python",
   "name": "python",
   "nbconvert_exporter": "python",
   "pygments_lexer": "ipython3",
   "version": "3.4.4"
  }
 },
 "nbformat": 4,
 "nbformat_minor": 0
}
